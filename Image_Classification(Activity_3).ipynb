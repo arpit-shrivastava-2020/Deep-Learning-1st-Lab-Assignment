{
  "nbformat": 4,
  "nbformat_minor": 0,
  "metadata": {
    "colab": {
      "name": "Image Classification(Activity 3).ipynb",
      "provenance": [],
      "collapsed_sections": []
    },
    "kernelspec": {
      "name": "python3",
      "display_name": "Python 3"
    }
  },
  "cells": [
    {
      "cell_type": "code",
      "metadata": {
        "id": "ErQfbjI-qYqa"
      },
      "source": [
        "#GitHub Link:https://github.com/arpit-shrivastava-2020/Deep-Learning-1st-Lab-Assignment.git"
      ],
      "execution_count": 1,
      "outputs": []
    },
    {
      "cell_type": "code",
      "metadata": {
        "colab": {
          "base_uri": "https://localhost:8080/"
        },
        "id": "QoeMAMRmRAVh",
        "outputId": "3aff5d28-35c0-4830-eecb-aaf5189bdf52"
      },
      "source": [
        "print(\"Code by Arpit Shrivastava, Registration No.:(20MAI0068)\")"
      ],
      "execution_count": 2,
      "outputs": [
        {
          "output_type": "stream",
          "text": [
            "Code by Arpit Shrivastava, Registration No.:(20MAI0068)\n"
          ],
          "name": "stdout"
        }
      ]
    },
    {
      "cell_type": "code",
      "metadata": {
        "colab": {
          "base_uri": "https://localhost:8080/"
        },
        "id": "ie1YMS-wiBoA",
        "outputId": "7be1f6b3-020e-4da7-f763-40a00d4ea398"
      },
      "source": [
        "!pip install PyDrive"
      ],
      "execution_count": 3,
      "outputs": [
        {
          "output_type": "stream",
          "text": [
            "Requirement already satisfied: PyDrive in /usr/local/lib/python3.7/dist-packages (1.3.1)\n",
            "Requirement already satisfied: PyYAML>=3.0 in /usr/local/lib/python3.7/dist-packages (from PyDrive) (3.13)\n",
            "Requirement already satisfied: oauth2client>=4.0.0 in /usr/local/lib/python3.7/dist-packages (from PyDrive) (4.1.3)\n",
            "Requirement already satisfied: google-api-python-client>=1.2 in /usr/local/lib/python3.7/dist-packages (from PyDrive) (1.7.12)\n",
            "Requirement already satisfied: pyasn1>=0.1.7 in /usr/local/lib/python3.7/dist-packages (from oauth2client>=4.0.0->PyDrive) (0.4.8)\n",
            "Requirement already satisfied: httplib2>=0.9.1 in /usr/local/lib/python3.7/dist-packages (from oauth2client>=4.0.0->PyDrive) (0.17.4)\n",
            "Requirement already satisfied: pyasn1-modules>=0.0.5 in /usr/local/lib/python3.7/dist-packages (from oauth2client>=4.0.0->PyDrive) (0.2.8)\n",
            "Requirement already satisfied: six>=1.6.1 in /usr/local/lib/python3.7/dist-packages (from oauth2client>=4.0.0->PyDrive) (1.15.0)\n",
            "Requirement already satisfied: rsa>=3.1.4 in /usr/local/lib/python3.7/dist-packages (from oauth2client>=4.0.0->PyDrive) (4.7.1)\n",
            "Requirement already satisfied: google-auth-httplib2>=0.0.3 in /usr/local/lib/python3.7/dist-packages (from google-api-python-client>=1.2->PyDrive) (0.0.4)\n",
            "Requirement already satisfied: uritemplate<4dev,>=3.0.0 in /usr/local/lib/python3.7/dist-packages (from google-api-python-client>=1.2->PyDrive) (3.0.1)\n",
            "Requirement already satisfied: google-auth>=1.4.1 in /usr/local/lib/python3.7/dist-packages (from google-api-python-client>=1.2->PyDrive) (1.27.0)\n",
            "Requirement already satisfied: cachetools<5.0,>=2.0.0 in /usr/local/lib/python3.7/dist-packages (from google-auth>=1.4.1->google-api-python-client>=1.2->PyDrive) (4.2.1)\n",
            "Requirement already satisfied: setuptools>=40.3.0 in /usr/local/lib/python3.7/dist-packages (from google-auth>=1.4.1->google-api-python-client>=1.2->PyDrive) (53.0.0)\n"
          ],
          "name": "stdout"
        }
      ]
    },
    {
      "cell_type": "code",
      "metadata": {
        "id": "-OIp3LQniFBI"
      },
      "source": [
        "import os\r\n",
        "from pydrive.auth import GoogleAuth\r\n",
        "from pydrive.drive import GoogleDrive\r\n",
        "from google.colab import auth\r\n",
        "from oauth2client.client import GoogleCredentials\r\n",
        "import pandas as pd\r\n",
        "import numpy as np\r\n",
        "from skimage.io import imread\r\n",
        "import matplotlib.pyplot as plt\r\n",
        "%matplotlib inline\r\n",
        "from sklearn.model_selection import train_test_split\r\n",
        "from sklearn.metrics import accuracy_score\r\n",
        "from tqdm import tqdm\r\n",
        "import torch\r\n",
        "from torch.autograd import Variable\r\n",
        "from torch.nn import Linear, ReLU, CrossEntropyLoss, Sequential, Conv2d, MaxPool2d, Module, Softmax, BatchNorm2d, Dropout\r\n",
        "from torch.optim import Adam, SGD"
      ],
      "execution_count": 4,
      "outputs": []
    },
    {
      "cell_type": "code",
      "metadata": {
        "id": "i930CalXiMAG"
      },
      "source": [
        "auth.authenticate_user()\r\n",
        "gauth = GoogleAuth()\r\n",
        "gauth.credentials = GoogleCredentials.get_application_default()\r\n",
        "drive = GoogleDrive(gauth)"
      ],
      "execution_count": 5,
      "outputs": []
    },
    {
      "cell_type": "code",
      "metadata": {
        "id": "lhG8jAfxiN2s"
      },
      "source": [
        "download = drive.CreateFile({'id': '1G8pr8anEC8uitSGrtdEZZ9FaZGeY1PQp'})"
      ],
      "execution_count": 6,
      "outputs": []
    },
    {
      "cell_type": "code",
      "metadata": {
        "colab": {
          "base_uri": "https://localhost:8080/"
        },
        "id": "H_Yud_yLiaqB",
        "outputId": "9e9eca16-3999-4f3d-cee3-2c1e382aa063"
      },
      "source": [
        "download.GetContentFile('Train.zip')\r\n",
        "!unzip Train.zip"
      ],
      "execution_count": 7,
      "outputs": [
        {
          "output_type": "stream",
          "text": [
            "Archive:  Train.zip\n",
            "replace Train/train.csv? [y]es, [n]o, [A]ll, [N]one, [r]ename: A\n",
            "  inflating: Train/train.csv         \n",
            " extracting: Train/train/1.png       \n",
            " extracting: Train/train/10.png      \n",
            " extracting: Train/train/100.png     \n",
            " extracting: Train/train/11.png      \n",
            " extracting: Train/train/12.png      \n",
            " extracting: Train/train/13.png      \n",
            " extracting: Train/train/14.png      \n",
            " extracting: Train/train/15.png      \n",
            " extracting: Train/train/16.png      \n",
            " extracting: Train/train/17.png      \n",
            " extracting: Train/train/18.png      \n",
            " extracting: Train/train/19.png      \n",
            " extracting: Train/train/2.png       \n",
            " extracting: Train/train/20.png      \n",
            " extracting: Train/train/21.png      \n",
            " extracting: Train/train/22.png      \n",
            " extracting: Train/train/23.png      \n",
            "  inflating: Train/train/24.png      \n",
            " extracting: Train/train/25.png      \n",
            " extracting: Train/train/26.png      \n",
            " extracting: Train/train/27.png      \n",
            " extracting: Train/train/28.png      \n",
            " extracting: Train/train/29.png      \n",
            " extracting: Train/train/3.png       \n",
            " extracting: Train/train/30.png      \n",
            " extracting: Train/train/31.png      \n",
            " extracting: Train/train/32.png      \n",
            " extracting: Train/train/33.png      \n",
            " extracting: Train/train/34.png      \n",
            " extracting: Train/train/35.png      \n",
            " extracting: Train/train/36.png      \n",
            " extracting: Train/train/37.png      \n",
            " extracting: Train/train/38.png      \n",
            " extracting: Train/train/39.png      \n",
            " extracting: Train/train/4.png       \n",
            " extracting: Train/train/40.png      \n",
            " extracting: Train/train/41.png      \n",
            " extracting: Train/train/42.png      \n",
            " extracting: Train/train/43.png      \n",
            " extracting: Train/train/44.png      \n",
            " extracting: Train/train/45.png      \n",
            " extracting: Train/train/46.png      \n",
            " extracting: Train/train/47.png      \n",
            " extracting: Train/train/48.png      \n",
            " extracting: Train/train/49.png      \n",
            " extracting: Train/train/5.png       \n",
            " extracting: Train/train/50.png      \n",
            " extracting: Train/train/51.png      \n",
            " extracting: Train/train/52.png      \n",
            " extracting: Train/train/53.png      \n",
            " extracting: Train/train/54.png      \n",
            " extracting: Train/train/55.png      \n",
            " extracting: Train/train/56.png      \n",
            " extracting: Train/train/57.png      \n",
            " extracting: Train/train/58.png      \n",
            " extracting: Train/train/59.png      \n",
            " extracting: Train/train/6.png       \n",
            " extracting: Train/train/60.png      \n",
            " extracting: Train/train/61.png      \n",
            " extracting: Train/train/62.png      \n",
            " extracting: Train/train/63.png      \n",
            " extracting: Train/train/64.png      \n",
            " extracting: Train/train/65.png      \n",
            " extracting: Train/train/66.png      \n",
            " extracting: Train/train/67.png      \n",
            " extracting: Train/train/68.png      \n",
            " extracting: Train/train/69.png      \n",
            " extracting: Train/train/7.png       \n",
            " extracting: Train/train/70.png      \n",
            " extracting: Train/train/71.png      \n",
            " extracting: Train/train/72.png      \n",
            " extracting: Train/train/73.png      \n",
            " extracting: Train/train/74.png      \n",
            " extracting: Train/train/75.png      \n",
            " extracting: Train/train/76.png      \n",
            " extracting: Train/train/77.png      \n",
            " extracting: Train/train/78.png      \n",
            " extracting: Train/train/79.png      \n",
            " extracting: Train/train/8.png       \n",
            " extracting: Train/train/80.png      \n",
            " extracting: Train/train/81.png      \n",
            " extracting: Train/train/82.png      \n",
            " extracting: Train/train/83.png      \n",
            " extracting: Train/train/84.png      \n",
            " extracting: Train/train/85.png      \n",
            " extracting: Train/train/86.png      \n",
            " extracting: Train/train/87.png      \n",
            " extracting: Train/train/88.png      \n",
            " extracting: Train/train/89.png      \n",
            " extracting: Train/train/9.png       \n",
            " extracting: Train/train/90.png      \n",
            " extracting: Train/train/91.png      \n",
            " extracting: Train/train/92.png      \n",
            " extracting: Train/train/93.png      \n",
            " extracting: Train/train/94.png      \n",
            " extracting: Train/train/95.png      \n",
            " extracting: Train/train/96.png      \n",
            " extracting: Train/train/97.png      \n",
            " extracting: Train/train/98.png      \n",
            " extracting: Train/train/99.png      \n"
          ],
          "name": "stdout"
        }
      ]
    },
    {
      "cell_type": "code",
      "metadata": {
        "id": "C5nGtahXidgd"
      },
      "source": [
        "import keras\r\n",
        "from keras.models import Sequential\r\n",
        "from keras.layers import Dense, Dropout, Flatten\r\n",
        "from keras.layers import Conv2D, MaxPooling2D\r\n",
        "from keras.utils import to_categorical\r\n",
        "from keras.preprocessing import image\r\n",
        "import numpy as np\r\n",
        "import pandas as pd\r\n",
        "import matplotlib.pyplot as plt\r\n",
        "from sklearn.model_selection import train_test_split\r\n",
        "from keras.utils import to_categorical\r\n",
        "from tqdm import tqdm"
      ],
      "execution_count": 8,
      "outputs": []
    },
    {
      "cell_type": "code",
      "metadata": {
        "id": "gg5m00n0ikIS"
      },
      "source": [
        "train = pd.read_csv('Train/train.csv')"
      ],
      "execution_count": 9,
      "outputs": []
    },
    {
      "cell_type": "code",
      "metadata": {
        "colab": {
          "base_uri": "https://localhost:8080/",
          "height": 195
        },
        "id": "449IEvL-xqra",
        "outputId": "795a8549-6174-4ca3-847b-767e0a7c4537"
      },
      "source": [
        "train.head()"
      ],
      "execution_count": 10,
      "outputs": [
        {
          "output_type": "execute_result",
          "data": {
            "text/html": [
              "<div>\n",
              "<style scoped>\n",
              "    .dataframe tbody tr th:only-of-type {\n",
              "        vertical-align: middle;\n",
              "    }\n",
              "\n",
              "    .dataframe tbody tr th {\n",
              "        vertical-align: top;\n",
              "    }\n",
              "\n",
              "    .dataframe thead th {\n",
              "        text-align: right;\n",
              "    }\n",
              "</style>\n",
              "<table border=\"1\" class=\"dataframe\">\n",
              "  <thead>\n",
              "    <tr style=\"text-align: right;\">\n",
              "      <th></th>\n",
              "      <th>id</th>\n",
              "      <th>label</th>\n",
              "    </tr>\n",
              "  </thead>\n",
              "  <tbody>\n",
              "    <tr>\n",
              "      <th>0</th>\n",
              "      <td>1</td>\n",
              "      <td>9</td>\n",
              "    </tr>\n",
              "    <tr>\n",
              "      <th>1</th>\n",
              "      <td>2</td>\n",
              "      <td>0</td>\n",
              "    </tr>\n",
              "    <tr>\n",
              "      <th>2</th>\n",
              "      <td>3</td>\n",
              "      <td>0</td>\n",
              "    </tr>\n",
              "    <tr>\n",
              "      <th>3</th>\n",
              "      <td>4</td>\n",
              "      <td>3</td>\n",
              "    </tr>\n",
              "    <tr>\n",
              "      <th>4</th>\n",
              "      <td>5</td>\n",
              "      <td>0</td>\n",
              "    </tr>\n",
              "  </tbody>\n",
              "</table>\n",
              "</div>"
            ],
            "text/plain": [
              "   id  label\n",
              "0   1      9\n",
              "1   2      0\n",
              "2   3      0\n",
              "3   4      3\n",
              "4   5      0"
            ]
          },
          "metadata": {
            "tags": []
          },
          "execution_count": 10
        }
      ]
    },
    {
      "cell_type": "code",
      "metadata": {
        "colab": {
          "base_uri": "https://localhost:8080/",
          "height": 195
        },
        "id": "hA1LJSh0zqrd",
        "outputId": "66310e2f-68b3-4530-db82-cd5ae06b1e08"
      },
      "source": [
        "train.tail()"
      ],
      "execution_count": 11,
      "outputs": [
        {
          "output_type": "execute_result",
          "data": {
            "text/html": [
              "<div>\n",
              "<style scoped>\n",
              "    .dataframe tbody tr th:only-of-type {\n",
              "        vertical-align: middle;\n",
              "    }\n",
              "\n",
              "    .dataframe tbody tr th {\n",
              "        vertical-align: top;\n",
              "    }\n",
              "\n",
              "    .dataframe thead th {\n",
              "        text-align: right;\n",
              "    }\n",
              "</style>\n",
              "<table border=\"1\" class=\"dataframe\">\n",
              "  <thead>\n",
              "    <tr style=\"text-align: right;\">\n",
              "      <th></th>\n",
              "      <th>id</th>\n",
              "      <th>label</th>\n",
              "    </tr>\n",
              "  </thead>\n",
              "  <tbody>\n",
              "    <tr>\n",
              "      <th>95</th>\n",
              "      <td>96</td>\n",
              "      <td>4</td>\n",
              "    </tr>\n",
              "    <tr>\n",
              "      <th>96</th>\n",
              "      <td>97</td>\n",
              "      <td>7</td>\n",
              "    </tr>\n",
              "    <tr>\n",
              "      <th>97</th>\n",
              "      <td>98</td>\n",
              "      <td>2</td>\n",
              "    </tr>\n",
              "    <tr>\n",
              "      <th>98</th>\n",
              "      <td>99</td>\n",
              "      <td>8</td>\n",
              "    </tr>\n",
              "    <tr>\n",
              "      <th>99</th>\n",
              "      <td>100</td>\n",
              "      <td>8</td>\n",
              "    </tr>\n",
              "  </tbody>\n",
              "</table>\n",
              "</div>"
            ],
            "text/plain": [
              "     id  label\n",
              "95   96      4\n",
              "96   97      7\n",
              "97   98      2\n",
              "98   99      8\n",
              "99  100      8"
            ]
          },
          "metadata": {
            "tags": []
          },
          "execution_count": 11
        }
      ]
    },
    {
      "cell_type": "code",
      "metadata": {
        "colab": {
          "base_uri": "https://localhost:8080/"
        },
        "id": "aXYzRa5Hz1Y8",
        "outputId": "92e1aff1-9648-491c-ddd6-8c3a543eb132"
      },
      "source": [
        "train_img = []\r\n",
        "for img_name in tqdm(train['id']):\r\n",
        "    image_path = 'Train/train/' + str(img_name) + '.png'\r\n",
        "    img = imread(image_path, as_gray=True)\r\n",
        "    img /= 255.0\r\n",
        "    img = img.astype('float32')\r\n",
        "    train_img.append(img)\r\n",
        "train_x = np.array(train_img)\r\n",
        "train_y = train['label'].values\r\n",
        "train_x.shape"
      ],
      "execution_count": 12,
      "outputs": [
        {
          "output_type": "stream",
          "text": [
            "100%|██████████| 100/100 [00:00<00:00, 1624.02it/s]\n"
          ],
          "name": "stderr"
        },
        {
          "output_type": "execute_result",
          "data": {
            "text/plain": [
              "(100, 28, 28)"
            ]
          },
          "metadata": {
            "tags": []
          },
          "execution_count": 12
        }
      ]
    },
    {
      "cell_type": "code",
      "metadata": {
        "colab": {
          "base_uri": "https://localhost:8080/"
        },
        "id": "1nVDaVKZimAB",
        "outputId": "e7e34750-6192-44ff-8de9-198c6937d619"
      },
      "source": [
        "train_image = []\r\n",
        "for i in tqdm(range(train.shape[0])):\r\n",
        "    img = image.load_img('Train/train/'+train['id'][i].astype('str')+'.png', target_size=(28,28,1), grayscale=True)\r\n",
        "    img = image.img_to_array(img)\r\n",
        "    img = img/255\r\n",
        "    train_image.append(img)\r\n",
        "X = np.array(train_image)"
      ],
      "execution_count": 13,
      "outputs": [
        {
          "output_type": "stream",
          "text": [
            "  0%|          | 0/100 [00:00<?, ?it/s]/usr/local/lib/python3.7/dist-packages/keras_preprocessing/image/utils.py:107: UserWarning: grayscale is deprecated. Please use color_mode = \"grayscale\"\n",
            "  warnings.warn('grayscale is deprecated. Please use '\n",
            "100%|██████████| 100/100 [00:00<00:00, 2169.03it/s]\n"
          ],
          "name": "stderr"
        }
      ]
    },
    {
      "cell_type": "code",
      "metadata": {
        "colab": {
          "base_uri": "https://localhost:8080/",
          "height": 626
        },
        "id": "Wf5Vjlxlz5bO",
        "outputId": "b95264ca-fb97-4ec8-acbe-0ead8f811262"
      },
      "source": [
        "i = 0\r\n",
        "plt.figure(figsize=(10,10))\r\n",
        "plt.subplot(221), plt.imshow(train_x[i], cmap='gray')\r\n",
        "plt.subplot(222), plt.imshow(train_x[i+25], cmap='gray')\r\n",
        "plt.subplot(223), plt.imshow(train_x[i+50], cmap='gray')\r\n",
        "plt.subplot(224), plt.imshow(train_x[i+75], cmap='gray')"
      ],
      "execution_count": 14,
      "outputs": [
        {
          "output_type": "execute_result",
          "data": {
            "text/plain": [
              "(<matplotlib.axes._subplots.AxesSubplot at 0x7fcd6f506c50>,\n",
              " <matplotlib.image.AxesImage at 0x7fcd6f496590>)"
            ]
          },
          "metadata": {
            "tags": []
          },
          "execution_count": 14
        },
        {
          "output_type": "display_data",
          "data": {
            "image/png": "[encoded data removed]",
            "text/plain": [
              "<Figure size 720x720 with 4 Axes>"
            ]
          },
          "metadata": {
            "tags": [],
            "needs_background": "light"
          }
        }
      ]
    },
    {
      "cell_type": "code",
      "metadata": {
        "id": "_LAWzkXEipCr"
      },
      "source": [
        "y=train['label'].values\r\n",
        "y = to_categorical(y)"
      ],
      "execution_count": 15,
      "outputs": []
    },
    {
      "cell_type": "code",
      "metadata": {
        "id": "kvo-6IL0is2u"
      },
      "source": [
        "X_train, X_test, y_train, y_test = train_test_split(X, y, random_state=42, test_size=0.1)"
      ],
      "execution_count": 16,
      "outputs": []
    },
    {
      "cell_type": "code",
      "metadata": {
        "id": "Tf1Mri-Uiv7y"
      },
      "source": [
        "model = Sequential()\r\n",
        "model.add(Conv2D(32, kernel_size=(3, 3),activation='relu',input_shape=(28,28,1)))\r\n",
        "model.add(Conv2D(64, (3, 3), activation='relu'))\r\n",
        "model.add(MaxPooling2D(pool_size=(2, 2)))\r\n",
        "model.add(Dropout(0.25))\r\n",
        "model.add(Flatten())\r\n",
        "model.add(Dense(128, activation='relu'))\r\n",
        "model.add(Dropout(0.5))\r\n",
        "model.add(Dense(10, activation='softmax'))"
      ],
      "execution_count": 17,
      "outputs": []
    },
    {
      "cell_type": "code",
      "metadata": {
        "id": "_tc7PMUpiy4X"
      },
      "source": [
        "model.compile(loss='categorical_crossentropy',optimizer='Adam',metrics=['accuracy'])"
      ],
      "execution_count": 18,
      "outputs": []
    },
    {
      "cell_type": "code",
      "metadata": {
        "colab": {
          "base_uri": "https://localhost:8080/"
        },
        "id": "XHMWdE4Pi1Mq",
        "outputId": "4784e93c-872e-4a34-e1db-84c7a1263f35"
      },
      "source": [
        "model.summary()"
      ],
      "execution_count": 19,
      "outputs": [
        {
          "output_type": "stream",
          "text": [
            "Model: \"sequential\"\n",
            "_________________________________________________________________\n",
            "Layer (type)                 Output Shape              Param #   \n",
            "=================================================================\n",
            "conv2d (Conv2D)              (None, 26, 26, 32)        320       \n",
            "_________________________________________________________________\n",
            "conv2d_1 (Conv2D)            (None, 24, 24, 64)        18496     \n",
            "_________________________________________________________________\n",
            "max_pooling2d (MaxPooling2D) (None, 12, 12, 64)        0         \n",
            "_________________________________________________________________\n",
            "dropout (Dropout)            (None, 12, 12, 64)        0         \n",
            "_________________________________________________________________\n",
            "flatten (Flatten)            (None, 9216)              0         \n",
            "_________________________________________________________________\n",
            "dense (Dense)                (None, 128)               1179776   \n",
            "_________________________________________________________________\n",
            "dropout_1 (Dropout)          (None, 128)               0         \n",
            "_________________________________________________________________\n",
            "dense_1 (Dense)              (None, 10)                1290      \n",
            "=================================================================\n",
            "Total params: 1,199,882\n",
            "Trainable params: 1,199,882\n",
            "Non-trainable params: 0\n",
            "_________________________________________________________________\n"
          ],
          "name": "stdout"
        }
      ]
    },
    {
      "cell_type": "code",
      "metadata": {
        "colab": {
          "base_uri": "https://localhost:8080/"
        },
        "id": "PavpoFUci4IP",
        "outputId": "85e57697-4c61-491c-b63a-269f06da5e95"
      },
      "source": [
        "history=model.fit(X_train, y_train, epochs=20, validation_data=(X_test, y_test))"
      ],
      "execution_count": 20,
      "outputs": [
        {
          "output_type": "stream",
          "text": [
            "Epoch 1/20\n",
            "3/3 [==============================] - 1s 306ms/step - loss: 2.3209 - accuracy: 0.1442 - val_loss: 2.0866 - val_accuracy: 0.6000\n",
            "Epoch 2/20\n",
            "3/3 [==============================] - 0s 96ms/step - loss: 2.0362 - accuracy: 0.3352 - val_loss: 1.8267 - val_accuracy: 0.4000\n",
            "Epoch 3/20\n",
            "3/3 [==============================] - 0s 95ms/step - loss: 1.7115 - accuracy: 0.4644 - val_loss: 1.3462 - val_accuracy: 0.8000\n",
            "Epoch 4/20\n",
            "3/3 [==============================] - 0s 93ms/step - loss: 1.5274 - accuracy: 0.3807 - val_loss: 0.8768 - val_accuracy: 1.0000\n",
            "Epoch 5/20\n",
            "3/3 [==============================] - 0s 95ms/step - loss: 1.1832 - accuracy: 0.5551 - val_loss: 0.7380 - val_accuracy: 0.9000\n",
            "Epoch 6/20\n",
            "3/3 [==============================] - 0s 94ms/step - loss: 1.1974 - accuracy: 0.5228 - val_loss: 0.7224 - val_accuracy: 0.8000\n",
            "Epoch 7/20\n",
            "3/3 [==============================] - 0s 94ms/step - loss: 0.9207 - accuracy: 0.6855 - val_loss: 0.6898 - val_accuracy: 0.8000\n",
            "Epoch 8/20\n",
            "3/3 [==============================] - 0s 90ms/step - loss: 0.8252 - accuracy: 0.7472 - val_loss: 0.5902 - val_accuracy: 0.9000\n",
            "Epoch 9/20\n",
            "3/3 [==============================] - 0s 92ms/step - loss: 0.6517 - accuracy: 0.8418 - val_loss: 0.5943 - val_accuracy: 0.8000\n",
            "Epoch 10/20\n",
            "3/3 [==============================] - 0s 108ms/step - loss: 0.6207 - accuracy: 0.7906 - val_loss: 0.4568 - val_accuracy: 0.8000\n",
            "Epoch 11/20\n",
            "3/3 [==============================] - 0s 95ms/step - loss: 0.4524 - accuracy: 0.8780 - val_loss: 0.3524 - val_accuracy: 0.9000\n",
            "Epoch 12/20\n",
            "3/3 [==============================] - 0s 97ms/step - loss: 0.3888 - accuracy: 0.8653 - val_loss: 0.3434 - val_accuracy: 0.9000\n",
            "Epoch 13/20\n",
            "3/3 [==============================] - 0s 90ms/step - loss: 0.4456 - accuracy: 0.8497 - val_loss: 0.3121 - val_accuracy: 0.9000\n",
            "Epoch 14/20\n",
            "3/3 [==============================] - 0s 101ms/step - loss: 0.2943 - accuracy: 0.9048 - val_loss: 0.4071 - val_accuracy: 0.8000\n",
            "Epoch 15/20\n",
            "3/3 [==============================] - 0s 97ms/step - loss: 0.3531 - accuracy: 0.8786 - val_loss: 0.4330 - val_accuracy: 0.7000\n",
            "Epoch 16/20\n",
            "3/3 [==============================] - 0s 94ms/step - loss: 0.2516 - accuracy: 0.9299 - val_loss: 0.3237 - val_accuracy: 0.8000\n",
            "Epoch 17/20\n",
            "3/3 [==============================] - 0s 92ms/step - loss: 0.1881 - accuracy: 0.9282 - val_loss: 0.2961 - val_accuracy: 0.8000\n",
            "Epoch 18/20\n",
            "3/3 [==============================] - 0s 100ms/step - loss: 0.2200 - accuracy: 0.9605 - val_loss: 0.3398 - val_accuracy: 0.8000\n",
            "Epoch 19/20\n",
            "3/3 [==============================] - 0s 97ms/step - loss: 0.1938 - accuracy: 0.9237 - val_loss: 0.3830 - val_accuracy: 0.7000\n",
            "Epoch 20/20\n",
            "3/3 [==============================] - 0s 93ms/step - loss: 0.2244 - accuracy: 0.9465 - val_loss: 0.3586 - val_accuracy: 0.8000\n"
          ],
          "name": "stdout"
        }
      ]
    },
    {
      "cell_type": "code",
      "metadata": {
        "colab": {
          "base_uri": "https://localhost:8080/"
        },
        "id": "3iuei_3ai7m4",
        "outputId": "0119ba02-d5c0-409e-85ff-cbdaaf98d280"
      },
      "source": [
        "download = drive.CreateFile({'id': '1dt44eJFLwAy7B_miMt8__fCSrLVHMXw-'})\r\n",
        "download.GetContentFile('Test.zip')\r\n",
        "!unzip Test.zip"
      ],
      "execution_count": 21,
      "outputs": [
        {
          "output_type": "stream",
          "text": [
            "Archive:  Test.zip\n",
            "replace Test/test.csv? [y]es, [n]o, [A]ll, [N]one, [r]ename: A\n",
            "  inflating: Test/test.csv           \n",
            " extracting: Test/test/1.png         \n",
            " extracting: Test/test/10.png        \n",
            " extracting: Test/test/11.png        \n",
            " extracting: Test/test/12.png        \n",
            " extracting: Test/test/13.png        \n",
            " extracting: Test/test/14.png        \n",
            " extracting: Test/test/15.png        \n",
            " extracting: Test/test/16.png        \n",
            " extracting: Test/test/17.png        \n",
            " extracting: Test/test/18.png        \n",
            " extracting: Test/test/19.png        \n",
            " extracting: Test/test/2.png         \n",
            " extracting: Test/test/20.png        \n",
            " extracting: Test/test/21.png        \n",
            " extracting: Test/test/22.png        \n",
            " extracting: Test/test/23.png        \n",
            " extracting: Test/test/24.png        \n",
            " extracting: Test/test/25.png        \n",
            " extracting: Test/test/26.png        \n",
            " extracting: Test/test/27.png        \n",
            " extracting: Test/test/28.png        \n",
            " extracting: Test/test/29.png        \n",
            " extracting: Test/test/3.png         \n",
            " extracting: Test/test/30.png        \n",
            " extracting: Test/test/31.png        \n",
            " extracting: Test/test/32.png        \n",
            " extracting: Test/test/33.png        \n",
            " extracting: Test/test/34.png        \n",
            " extracting: Test/test/35.png        \n",
            " extracting: Test/test/36.png        \n",
            " extracting: Test/test/37.png        \n",
            " extracting: Test/test/38.png        \n",
            " extracting: Test/test/39.png        \n",
            " extracting: Test/test/4.png         \n",
            " extracting: Test/test/40.png        \n",
            " extracting: Test/test/41.png        \n",
            " extracting: Test/test/42.png        \n",
            " extracting: Test/test/43.png        \n",
            " extracting: Test/test/44.png        \n",
            " extracting: Test/test/45.png        \n",
            " extracting: Test/test/46.png        \n",
            " extracting: Test/test/47.png        \n",
            " extracting: Test/test/48.png        \n",
            " extracting: Test/test/49.png        \n",
            " extracting: Test/test/5.png         \n",
            " extracting: Test/test/50.png        \n",
            " extracting: Test/test/51.png        \n",
            " extracting: Test/test/6.png         \n",
            " extracting: Test/test/7.png         \n",
            " extracting: Test/test/8.png         \n",
            " extracting: Test/test/9.png         \n"
          ],
          "name": "stdout"
        }
      ]
    },
    {
      "cell_type": "code",
      "metadata": {
        "id": "MCuSKl11jKGw"
      },
      "source": [
        "test = pd.read_csv('Test/test.csv')"
      ],
      "execution_count": 22,
      "outputs": []
    },
    {
      "cell_type": "code",
      "metadata": {
        "colab": {
          "base_uri": "https://localhost:8080/"
        },
        "id": "4cknGH4mjObL",
        "outputId": "e7a22ef0-46e9-461a-f8d0-feb8f3f05c77"
      },
      "source": [
        "test_image = []\r\n",
        "for i in tqdm(range(test.shape[0])):\r\n",
        "    img = image.load_img('Test/test/'+test['id'][i].astype('str')+'.png', target_size=(28,28,1), grayscale=True)\r\n",
        "    img = image.img_to_array(img)\r\n",
        "    img = img/255\r\n",
        "    test_image.append(img)\r\n",
        "test = np.array(test_image)"
      ],
      "execution_count": 23,
      "outputs": [
        {
          "output_type": "stream",
          "text": [
            "  0%|          | 0/51 [00:00<?, ?it/s]/usr/local/lib/python3.7/dist-packages/keras_preprocessing/image/utils.py:107: UserWarning: grayscale is deprecated. Please use color_mode = \"grayscale\"\n",
            "  warnings.warn('grayscale is deprecated. Please use '\n",
            "100%|██████████| 51/51 [00:00<00:00, 2394.36it/s]\n"
          ],
          "name": "stderr"
        }
      ]
    },
    {
      "cell_type": "code",
      "metadata": {
        "id": "DJO65vnNjQ3G",
        "colab": {
          "base_uri": "https://localhost:8080/"
        },
        "outputId": "869050e5-ca29-41db-c541-9443ec23ee15"
      },
      "source": [
        "prediction = np.argmax(model.predict(test), axis=-1)\r\n",
        "prediction"
      ],
      "execution_count": 24,
      "outputs": [
        {
          "output_type": "execute_result",
          "data": {
            "text/plain": [
              "array([3, 8, 5, 1, 3, 4, 0, 7, 5, 7, 9, 8, 6, 1, 0, 2, 2, 3, 4, 3, 4, 0,\n",
              "       6, 5, 8, 6, 6, 1, 8, 2, 9, 0, 3, 1, 7, 5, 6, 6, 7, 0, 3, 4, 4, 1,\n",
              "       7, 5, 1, 0, 5, 9, 0])"
            ]
          },
          "metadata": {
            "tags": []
          },
          "execution_count": 24
        }
      ]
    },
    {
      "cell_type": "code",
      "metadata": {
        "colab": {
          "base_uri": "https://localhost:8080/",
          "height": 542
        },
        "id": "9Oe4NzXnjTuV",
        "outputId": "353ccce9-a9ed-4a32-9a52-666fc70af65b"
      },
      "source": [
        "import plotly.graph_objects as go\r\n",
        "fig = go.Figure()\r\n",
        "\r\n",
        "fig.add_trace(go.Scatter(x=history.epoch,\r\n",
        "                         y=history.history['accuracy'],\r\n",
        "                         mode='lines+markers',\r\n",
        "                         name='Training accuracy'))\r\n",
        "fig.add_trace(go.Scatter(x=history.epoch,\r\n",
        "                         y=history.history['val_accuracy'],\r\n",
        "                         mode='lines+markers',\r\n",
        "                         name='Validation accuracy'))\r\n",
        "fig.update_layout(title='Accuracy',\r\n",
        "                  xaxis=dict(title='Epoch'),\r\n",
        "                  yaxis=dict(title='Percentage'))\r\n",
        "fig.show()"
      ],
      "execution_count": 25,
      "outputs": [
        {
          "output_type": "display_data",
          "data": {
            "text/html": [
              "<html>\n",
              "<head><meta charset=\"utf-8\" /></head>\n",
              "<body>\n",
              "    <div>\n",
              "            <script src=\"https://cdnjs.cloudflare.com/ajax/libs/mathjax/2.7.5/MathJax.js?config=TeX-AMS-MML_SVG\"></script><script type=\"text/javascript\">if (window.MathJax) {MathJax.Hub.Config({SVG: {font: \"STIX-Web\"}});}</script>\n",
              "                <script type=\"text/javascript\">window.PlotlyConfig = {MathJaxConfig: 'local'};</script>\n",
              "        <script src=\"https://cdn.plot.ly/plotly-latest.min.js\"></script>    \n",
              "            <div id=\"358f80bf-5ed9-44f7-91a3-a07db7b8ed86\" class=\"plotly-graph-div\" style=\"height:525px; width:100%;\"></div>\n",
              "            <script type=\"text/javascript\">\n",
              "                \n",
              "                    window.PLOTLYENV=window.PLOTLYENV || {};\n",
              "                    \n",
              "                if (document.getElementById(\"358f80bf-5ed9-44f7-91a3-a07db7b8ed86\")) {\n",
              "                    Plotly.newPlot(\n",
              "                        '358f80bf-5ed9-44f7-91a3-a07db7b8ed86',\n",
              "                        [{\"mode\": \"lines+markers\", \"name\": \"Training accuracy\", \"type\": \"scatter\", \"x\": [0, 1, 2, 3, 4, 5, 6, 7, 8, 9, 10, 11, 12, 13, 14, 15, 16, 17, 18, 19], \"y\": [0.15555556118488312, 0.31111112236976624, 0.4444444477558136, 0.4333333373069763, 0.5555555820465088, 0.5222222208976746, 0.644444465637207, 0.7444444298744202, 0.855555534362793, 0.800000011920929, 0.8888888955116272, 0.855555534362793, 0.855555534362793, 0.9111111164093018, 0.8666666746139526, 0.9222221970558167, 0.9111111164093018, 0.9444444179534912, 0.9333333373069763, 0.9555555582046509]}, {\"mode\": \"lines+markers\", \"name\": \"Validation accuracy\", \"type\": \"scatter\", \"x\": [0, 1, 2, 3, 4, 5, 6, 7, 8, 9, 10, 11, 12, 13, 14, 15, 16, 17, 18, 19], \"y\": [0.6000000238418579, 0.4000000059604645, 0.800000011920929, 1.0, 0.8999999761581421, 0.800000011920929, 0.800000011920929, 0.8999999761581421, 0.800000011920929, 0.800000011920929, 0.8999999761581421, 0.8999999761581421, 0.8999999761581421, 0.800000011920929, 0.699999988079071, 0.800000011920929, 0.800000011920929, 0.800000011920929, 0.699999988079071, 0.800000011920929]}],\n",
              "                        {\"template\": {\"data\": {\"bar\": [{\"error_x\": {\"color\": \"#2a3f5f\"}, \"error_y\": {\"color\": \"#2a3f5f\"}, \"marker\": {\"line\": {\"color\": \"#E5ECF6\", \"width\": 0.5}}, \"type\": \"bar\"}], \"barpolar\": [{\"marker\": {\"line\": {\"color\": \"#E5ECF6\", \"width\": 0.5}}, \"type\": \"barpolar\"}], \"carpet\": [{\"aaxis\": {\"endlinecolor\": \"#2a3f5f\", \"gridcolor\": \"white\", \"linecolor\": \"white\", \"minorgridcolor\": \"white\", \"startlinecolor\": \"#2a3f5f\"}, \"baxis\": {\"endlinecolor\": \"#2a3f5f\", \"gridcolor\": \"white\", \"linecolor\": \"white\", \"minorgridcolor\": \"white\", \"startlinecolor\": \"#2a3f5f\"}, \"type\": \"carpet\"}], \"choropleth\": [{\"colorbar\": {\"outlinewidth\": 0, \"ticks\": \"\"}, \"type\": \"choropleth\"}], \"contour\": [{\"colorbar\": {\"outlinewidth\": 0, \"ticks\": \"\"}, \"colorscale\": [[0.0, \"#0d0887\"], [0.1111111111111111, \"#46039f\"], [0.2222222222222222, \"#7201a8\"], [0.3333333333333333, \"#9c179e\"], [0.4444444444444444, \"#bd3786\"], [0.5555555555555556, \"#d8576b\"], [0.6666666666666666, \"#ed7953\"], [0.7777777777777778, \"#fb9f3a\"], [0.8888888888888888, \"#fdca26\"], [1.0, \"#f0f921\"]], \"type\": \"contour\"}], \"contourcarpet\": [{\"colorbar\": {\"outlinewidth\": 0, \"ticks\": \"\"}, \"type\": \"contourcarpet\"}], \"heatmap\": [{\"colorbar\": {\"outlinewidth\": 0, \"ticks\": \"\"}, \"colorscale\": [[0.0, \"#0d0887\"], [0.1111111111111111, \"#46039f\"], [0.2222222222222222, \"#7201a8\"], [0.3333333333333333, \"#9c179e\"], [0.4444444444444444, \"#bd3786\"], [0.5555555555555556, \"#d8576b\"], [0.6666666666666666, \"#ed7953\"], [0.7777777777777778, \"#fb9f3a\"], [0.8888888888888888, \"#fdca26\"], [1.0, \"#f0f921\"]], \"type\": \"heatmap\"}], \"heatmapgl\": [{\"colorbar\": {\"outlinewidth\": 0, \"ticks\": \"\"}, \"colorscale\": [[0.0, \"#0d0887\"], [0.1111111111111111, \"#46039f\"], [0.2222222222222222, \"#7201a8\"], [0.3333333333333333, \"#9c179e\"], [0.4444444444444444, \"#bd3786\"], [0.5555555555555556, \"#d8576b\"], [0.6666666666666666, \"#ed7953\"], [0.7777777777777778, \"#fb9f3a\"], [0.8888888888888888, \"#fdca26\"], [1.0, \"#f0f921\"]], \"type\": \"heatmapgl\"}], \"histogram\": [{\"marker\": {\"colorbar\": {\"outlinewidth\": 0, \"ticks\": \"\"}}, \"type\": \"histogram\"}], \"histogram2d\": [{\"colorbar\": {\"outlinewidth\": 0, \"ticks\": \"\"}, \"colorscale\": [[0.0, \"#0d0887\"], [0.1111111111111111, \"#46039f\"], [0.2222222222222222, \"#7201a8\"], [0.3333333333333333, \"#9c179e\"], [0.4444444444444444, \"#bd3786\"], [0.5555555555555556, \"#d8576b\"], [0.6666666666666666, \"#ed7953\"], [0.7777777777777778, \"#fb9f3a\"], [0.8888888888888888, \"#fdca26\"], [1.0, \"#f0f921\"]], \"type\": \"histogram2d\"}], \"histogram2dcontour\": [{\"colorbar\": {\"outlinewidth\": 0, \"ticks\": \"\"}, \"colorscale\": [[0.0, \"#0d0887\"], [0.1111111111111111, \"#46039f\"], [0.2222222222222222, \"#7201a8\"], [0.3333333333333333, \"#9c179e\"], [0.4444444444444444, \"#bd3786\"], [0.5555555555555556, \"#d8576b\"], [0.6666666666666666, \"#ed7953\"], [0.7777777777777778, \"#fb9f3a\"], [0.8888888888888888, \"#fdca26\"], [1.0, \"#f0f921\"]], \"type\": \"histogram2dcontour\"}], \"mesh3d\": [{\"colorbar\": {\"outlinewidth\": 0, \"ticks\": \"\"}, \"type\": \"mesh3d\"}], \"parcoords\": [{\"line\": {\"colorbar\": {\"outlinewidth\": 0, \"ticks\": \"\"}}, \"type\": \"parcoords\"}], \"pie\": [{\"automargin\": true, \"type\": \"pie\"}], \"scatter\": [{\"marker\": {\"colorbar\": {\"outlinewidth\": 0, \"ticks\": \"\"}}, \"type\": \"scatter\"}], \"scatter3d\": [{\"line\": {\"colorbar\": {\"outlinewidth\": 0, \"ticks\": \"\"}}, \"marker\": {\"colorbar\": {\"outlinewidth\": 0, \"ticks\": \"\"}}, \"type\": \"scatter3d\"}], \"scattercarpet\": [{\"marker\": {\"colorbar\": {\"outlinewidth\": 0, \"ticks\": \"\"}}, \"type\": \"scattercarpet\"}], \"scattergeo\": [{\"marker\": {\"colorbar\": {\"outlinewidth\": 0, \"ticks\": \"\"}}, \"type\": \"scattergeo\"}], \"scattergl\": [{\"marker\": {\"colorbar\": {\"outlinewidth\": 0, \"ticks\": \"\"}}, \"type\": \"scattergl\"}], \"scattermapbox\": [{\"marker\": {\"colorbar\": {\"outlinewidth\": 0, \"ticks\": \"\"}}, \"type\": \"scattermapbox\"}], \"scatterpolar\": [{\"marker\": {\"colorbar\": {\"outlinewidth\": 0, \"ticks\": \"\"}}, \"type\": \"scatterpolar\"}], \"scatterpolargl\": [{\"marker\": {\"colorbar\": {\"outlinewidth\": 0, \"ticks\": \"\"}}, \"type\": \"scatterpolargl\"}], \"scatterternary\": [{\"marker\": {\"colorbar\": {\"outlinewidth\": 0, \"ticks\": \"\"}}, \"type\": \"scatterternary\"}], \"surface\": [{\"colorbar\": {\"outlinewidth\": 0, \"ticks\": \"\"}, \"colorscale\": [[0.0, \"#0d0887\"], [0.1111111111111111, \"#46039f\"], [0.2222222222222222, \"#7201a8\"], [0.3333333333333333, \"#9c179e\"], [0.4444444444444444, \"#bd3786\"], [0.5555555555555556, \"#d8576b\"], [0.6666666666666666, \"#ed7953\"], [0.7777777777777778, \"#fb9f3a\"], [0.8888888888888888, \"#fdca26\"], [1.0, \"#f0f921\"]], \"type\": \"surface\"}], \"table\": [{\"cells\": {\"fill\": {\"color\": \"#EBF0F8\"}, \"line\": {\"color\": \"white\"}}, \"header\": {\"fill\": {\"color\": \"#C8D4E3\"}, \"line\": {\"color\": \"white\"}}, \"type\": \"table\"}]}, \"layout\": {\"annotationdefaults\": {\"arrowcolor\": \"#2a3f5f\", \"arrowhead\": 0, \"arrowwidth\": 1}, \"coloraxis\": {\"colorbar\": {\"outlinewidth\": 0, \"ticks\": \"\"}}, \"colorscale\": {\"diverging\": [[0, \"#8e0152\"], [0.1, \"#c51b7d\"], [0.2, \"#de77ae\"], [0.3, \"#f1b6da\"], [0.4, \"#fde0ef\"], [0.5, \"#f7f7f7\"], [0.6, \"#e6f5d0\"], [0.7, \"#b8e186\"], [0.8, \"#7fbc41\"], [0.9, \"#4d9221\"], [1, \"#276419\"]], \"sequential\": [[0.0, \"#0d0887\"], [0.1111111111111111, \"#46039f\"], [0.2222222222222222, \"#7201a8\"], [0.3333333333333333, \"#9c179e\"], [0.4444444444444444, \"#bd3786\"], [0.5555555555555556, \"#d8576b\"], [0.6666666666666666, \"#ed7953\"], [0.7777777777777778, \"#fb9f3a\"], [0.8888888888888888, \"#fdca26\"], [1.0, \"#f0f921\"]], \"sequentialminus\": [[0.0, \"#0d0887\"], [0.1111111111111111, \"#46039f\"], [0.2222222222222222, \"#7201a8\"], [0.3333333333333333, \"#9c179e\"], [0.4444444444444444, \"#bd3786\"], [0.5555555555555556, \"#d8576b\"], [0.6666666666666666, \"#ed7953\"], [0.7777777777777778, \"#fb9f3a\"], [0.8888888888888888, \"#fdca26\"], [1.0, \"#f0f921\"]]}, \"colorway\": [\"#636efa\", \"#EF553B\", \"#00cc96\", \"#ab63fa\", \"#FFA15A\", \"#19d3f3\", \"#FF6692\", \"#B6E880\", \"#FF97FF\", \"#FECB52\"], \"font\": {\"color\": \"#2a3f5f\"}, \"geo\": {\"bgcolor\": \"white\", \"lakecolor\": \"white\", \"landcolor\": \"#E5ECF6\", \"showlakes\": true, \"showland\": true, \"subunitcolor\": \"white\"}, \"hoverlabel\": {\"align\": \"left\"}, \"hovermode\": \"closest\", \"mapbox\": {\"style\": \"light\"}, \"paper_bgcolor\": \"white\", \"plot_bgcolor\": \"#E5ECF6\", \"polar\": {\"angularaxis\": {\"gridcolor\": \"white\", \"linecolor\": \"white\", \"ticks\": \"\"}, \"bgcolor\": \"#E5ECF6\", \"radialaxis\": {\"gridcolor\": \"white\", \"linecolor\": \"white\", \"ticks\": \"\"}}, \"scene\": {\"xaxis\": {\"backgroundcolor\": \"#E5ECF6\", \"gridcolor\": \"white\", \"gridwidth\": 2, \"linecolor\": \"white\", \"showbackground\": true, \"ticks\": \"\", \"zerolinecolor\": \"white\"}, \"yaxis\": {\"backgroundcolor\": \"#E5ECF6\", \"gridcolor\": \"white\", \"gridwidth\": 2, \"linecolor\": \"white\", \"showbackground\": true, \"ticks\": \"\", \"zerolinecolor\": \"white\"}, \"zaxis\": {\"backgroundcolor\": \"#E5ECF6\", \"gridcolor\": \"white\", \"gridwidth\": 2, \"linecolor\": \"white\", \"showbackground\": true, \"ticks\": \"\", \"zerolinecolor\": \"white\"}}, \"shapedefaults\": {\"line\": {\"color\": \"#2a3f5f\"}}, \"ternary\": {\"aaxis\": {\"gridcolor\": \"white\", \"linecolor\": \"white\", \"ticks\": \"\"}, \"baxis\": {\"gridcolor\": \"white\", \"linecolor\": \"white\", \"ticks\": \"\"}, \"bgcolor\": \"#E5ECF6\", \"caxis\": {\"gridcolor\": \"white\", \"linecolor\": \"white\", \"ticks\": \"\"}}, \"title\": {\"x\": 0.05}, \"xaxis\": {\"automargin\": true, \"gridcolor\": \"white\", \"linecolor\": \"white\", \"ticks\": \"\", \"title\": {\"standoff\": 15}, \"zerolinecolor\": \"white\", \"zerolinewidth\": 2}, \"yaxis\": {\"automargin\": true, \"gridcolor\": \"white\", \"linecolor\": \"white\", \"ticks\": \"\", \"title\": {\"standoff\": 15}, \"zerolinecolor\": \"white\", \"zerolinewidth\": 2}}}, \"title\": {\"text\": \"Accuracy\"}, \"xaxis\": {\"title\": {\"text\": \"Epoch\"}}, \"yaxis\": {\"title\": {\"text\": \"Percentage\"}}},\n",
              "                        {\"responsive\": true}\n",
              "                    ).then(function(){\n",
              "                            \n",
              "var gd = document.getElementById('358f80bf-5ed9-44f7-91a3-a07db7b8ed86');\n",
              "var x = new MutationObserver(function (mutations, observer) {{\n",
              "        var display = window.getComputedStyle(gd).display;\n",
              "        if (!display || display === 'none') {{\n",
              "            console.log([gd, 'removed!']);\n",
              "            Plotly.purge(gd);\n",
              "            observer.disconnect();\n",
              "        }}\n",
              "}});\n",
              "\n",
              "// Listen for the removal of the full notebook cells\n",
              "var notebookContainer = gd.closest('#notebook-container');\n",
              "if (notebookContainer) {{\n",
              "    x.observe(notebookContainer, {childList: true});\n",
              "}}\n",
              "\n",
              "// Listen for the clearing of the current output cell\n",
              "var outputEl = gd.closest('.output');\n",
              "if (outputEl) {{\n",
              "    x.observe(outputEl, {childList: true});\n",
              "}}\n",
              "\n",
              "                        })\n",
              "                };\n",
              "                \n",
              "            </script>\n",
              "        </div>\n",
              "</body>\n",
              "</html>"
            ]
          },
          "metadata": {
            "tags": []
          }
        }
      ]
    },
    {
      "cell_type": "code",
      "metadata": {
        "colab": {
          "base_uri": "https://localhost:8080/"
        },
        "id": "3iXoO1P22ORg",
        "outputId": "c9700433-643c-4e0e-8938-b95b868b0fe2"
      },
      "source": [
        "from sklearn.naive_bayes import MultinomialNB\r\n",
        "nb=MultinomialNB()\r\n",
        "X_train.shape"
      ],
      "execution_count": 26,
      "outputs": [
        {
          "output_type": "execute_result",
          "data": {
            "text/plain": [
              "(90, 28, 28, 1)"
            ]
          },
          "metadata": {
            "tags": []
          },
          "execution_count": 26
        }
      ]
    },
    {
      "cell_type": "code",
      "metadata": {
        "id": "YeJXzKMtSNgt"
      },
      "source": [
        "X_train = X_train.reshape(90,28*28*1)\r\n",
        "X_test = X_test.reshape(10,28*28*1)"
      ],
      "execution_count": 27,
      "outputs": []
    },
    {
      "cell_type": "code",
      "metadata": {
        "id": "jJhxaQhdTWhC"
      },
      "source": [
        "y_train = np.argmax(y_train, axis=1)"
      ],
      "execution_count": 28,
      "outputs": []
    },
    {
      "cell_type": "code",
      "metadata": {
        "id": "HfcFdQqjTvJY"
      },
      "source": [
        "y_test = np.argmax(y_test, axis=1)"
      ],
      "execution_count": 29,
      "outputs": []
    },
    {
      "cell_type": "code",
      "metadata": {
        "colab": {
          "base_uri": "https://localhost:8080/"
        },
        "id": "gE909uyY5u9A",
        "outputId": "fb6fb19e-79cf-45c5-a081-ded68056f7d8"
      },
      "source": [
        "nb.fit(X_train,y_train)"
      ],
      "execution_count": 30,
      "outputs": [
        {
          "output_type": "execute_result",
          "data": {
            "text/plain": [
              "MultinomialNB(alpha=1.0, class_prior=None, fit_prior=True)"
            ]
          },
          "metadata": {
            "tags": []
          },
          "execution_count": 30
        }
      ]
    },
    {
      "cell_type": "code",
      "metadata": {
        "id": "sCZnd8K55LGP"
      },
      "source": [
        "pred=nb.predict(X_test)"
      ],
      "execution_count": 31,
      "outputs": []
    },
    {
      "cell_type": "code",
      "metadata": {
        "colab": {
          "base_uri": "https://localhost:8080/"
        },
        "id": "Wcy47Ldy5VD2",
        "outputId": "dfa2daca-3e43-4ec9-97da-8222695362d2"
      },
      "source": [
        "pred"
      ],
      "execution_count": 32,
      "outputs": [
        {
          "output_type": "execute_result",
          "data": {
            "text/plain": [
              "array([7, 6, 1, 2, 9, 4, 4, 1, 0, 9])"
            ]
          },
          "metadata": {
            "tags": []
          },
          "execution_count": 32
        }
      ]
    },
    {
      "cell_type": "code",
      "metadata": {
        "colab": {
          "base_uri": "https://localhost:8080/"
        },
        "id": "H46rUXZ3TbbD",
        "outputId": "f2ab84d2-5fa4-4ae6-98d0-f5362451328b"
      },
      "source": [
        "from sklearn import metrics\r\n",
        "print(metrics.classification_report(y_test, pred))"
      ],
      "execution_count": 33,
      "outputs": [
        {
          "output_type": "stream",
          "text": [
            "              precision    recall  f1-score   support\n",
            "\n",
            "           0       1.00      1.00      1.00         1\n",
            "           1       1.00      1.00      1.00         2\n",
            "           2       1.00      0.50      0.67         2\n",
            "           4       0.50      1.00      0.67         1\n",
            "           6       0.00      0.00      0.00         1\n",
            "           7       0.00      0.00      0.00         0\n",
            "           9       1.00      0.67      0.80         3\n",
            "\n",
            "    accuracy                           0.70        10\n",
            "   macro avg       0.64      0.60      0.59        10\n",
            "weighted avg       0.85      0.70      0.74        10\n",
            "\n"
          ],
          "name": "stdout"
        },
        {
          "output_type": "stream",
          "text": [
            "/usr/local/lib/python3.7/dist-packages/sklearn/metrics/_classification.py:1272: UndefinedMetricWarning:\n",
            "\n",
            "Recall and F-score are ill-defined and being set to 0.0 in labels with no true samples. Use `zero_division` parameter to control this behavior.\n",
            "\n"
          ],
          "name": "stderr"
        }
      ]
    },
    {
      "cell_type": "code",
      "metadata": {
        "id": "MqutkRNvICK5"
      },
      "source": [
        "download = drive.CreateFile({'id': '1cltVVBHIs368dFvtM1oGw4QvYjNaU90M'})\r\n",
        "download.GetContentFile('Final.csv')"
      ],
      "execution_count": 34,
      "outputs": []
    },
    {
      "cell_type": "code",
      "metadata": {
        "id": "vpAlHhhr2_A7"
      },
      "source": [
        "Final=pd.read_csv('Final.csv')\r\n",
        "Final['label'] = prediction\r\n",
        "Final.to_csv('Final.csv', header=True, index=False)"
      ],
      "execution_count": 35,
      "outputs": []
    }
  ]
}