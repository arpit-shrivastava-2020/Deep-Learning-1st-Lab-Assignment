{
 "cells": [
  {
   "cell_type": "code",
   "execution_count": 1,
   "metadata": {},
   "outputs": [],
   "source": [
    "#Github Link:https://github.com/arpit-shrivastava-2020/Deep-Learning-1st-Lab-Assignment.git"
   ]
  },
  {
   "cell_type": "code",
   "execution_count": 2,
   "metadata": {
    "scrolled": true
   },
   "outputs": [
    {
     "name": "stdout",
     "output_type": "stream",
     "text": [
      "Code by Arpit Shrivastava, Registration No.:(20MAI0068)\n",
      "First 5 Rows:-\n",
      "[[2.0, 3.5, 0], [1.4, 5.3, 0], [3.0, 4.0, 0], [2.3, 1.8, 0], [5.3, 4.3, 0]]\n",
      "Last 5 Rows:-\n",
      "[[6.6, 5.7, 1], [7.2, 2.7, 1], [8.9, 9.7, 1], [8.9, 2.2, 1], [9.6, -2.4, 1]]\n",
      ">epoch=0, lrate=0.100, error=2.000\n",
      ">epoch=1, lrate=0.100, error=3.000\n",
      ">epoch=2, lrate=0.100, error=3.000\n",
      ">epoch=3, lrate=0.100, error=3.000\n",
      ">epoch=4, lrate=0.100, error=3.000\n",
      "[-0.4, 1.1700000000000004, -0.2799999999999998]\n"
     ]
    }
   ],
   "source": [
    "def estimate(row, weights):\n",
    "    activation = weights[0]\n",
    "    for i in range(len(row)-1):\n",
    "        activation += weights[i + 1] * row[i]\n",
    "    return 1.0 if activation >= 0.0 else 0.0\n",
    " \n",
    "def train(train, l_rate, n_epoch):\n",
    "    weights = [0.0 for i in range(len(train[0]))]\n",
    "    for epoch in range(n_epoch):\n",
    "        sum_error = 0.0\n",
    "        for row in train:\n",
    "            prediction = estimate(row, weights)\n",
    "            error = row[-1] - prediction\n",
    "            sum_error += error**2\n",
    "            weights[0] = weights[0] + l_rate * error\n",
    "            for i in range(len(row)-1):\n",
    "                weights[i + 1] = weights[i + 1] + l_rate * error * row[i]\n",
    "        print('>epoch=%d, lrate=%.3f, error=%.3f' % (epoch, l_rate, sum_error))\n",
    "    return weights \n",
    "X = [[2.0,3.5,0],\n",
    "     [1.4,5.3,0],\n",
    "     [3.0,4.0,0],\n",
    "     [2.3,1.8,0],\n",
    "     [5.3,4.3,0],\n",
    "     [6.6,5.7,1],\n",
    "     [7.2,2.7,1],\n",
    "     [8.9,9.7,1],\n",
    "     [8.9,2.2,1],\n",
    "     [9.6,-2.4,1]]\n",
    "A=X[:5]\n",
    "B=X[-5:]\n",
    "print(\"Code by Arpit Shrivastava, Registration No.:(20MAI0068)\")\n",
    "print(\"First 5 Rows:-\\n{}\".format(A))\n",
    "print(\"Last 5 Rows:-\\n{}\".format(B))\n",
    "l_rate = 0.1\n",
    "n_epoch = 5\n",
    "weights = train(X, l_rate, n_epoch)\n",
    "print(weights)"
   ]
  },
  {
   "cell_type": "code",
   "execution_count": null,
   "metadata": {},
   "outputs": [],
   "source": []
  }
 ],
 "metadata": {
  "kernelspec": {
   "display_name": "Python 3",
   "language": "python",
   "name": "python3"
  },
  "language_info": {
   "codemirror_mode": {
    "name": "ipython",
    "version": 3
   },
   "file_extension": ".py",
   "mimetype": "text/x-python",
   "name": "python",
   "nbconvert_exporter": "python",
   "pygments_lexer": "ipython3",
   "version": "3.8.5"
  }
 },
 "nbformat": 4,
 "nbformat_minor": 4
}
